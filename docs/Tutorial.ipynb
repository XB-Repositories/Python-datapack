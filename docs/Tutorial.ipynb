{
 "cells": [
  {
   "cell_type": "markdown",
   "metadata": {},
   "source": [
    "# Librería *datapack*: Guía rápida\n",
    "\n",
    "En este tutorial introductorio se explican las principales funcionalidades de la librería **datapack**. Esta librería incluye funciones que permiten trabajar con conjuntos de datos numéricos, lógicos, categóricos o mixtos. La librería utiliza un enfoque orientado a objetos, por lo que la gestión del conjunto de datos se realiza a través de la clase *Dataset*."
   ]
  },
  {
   "cell_type": "code",
   "execution_count": 1,
   "metadata": {},
   "outputs": [],
   "source": [
    "from datapack import dataset, plots"
   ]
  },
  {
   "cell_type": "markdown",
   "metadata": {},
   "source": [
    "## Inicialización y gestión del conjunto de datos\n",
    "\n",
    "A lo largo de este documento trabajaremos con el conjunto de datos de ejemplo *fruits.csv*, el cuál es un conjunto de datos de juguete que incluye información sobre las remesas de fruta disponibles en una frutería. Este conjunto de datos está compuesto por los siguientes atributos.\n",
    "\n",
    "- **Code:** Código de la fruta.\n",
    "- **Fruit:** Tipo de fruta.\n",
    "- **Quantity:** Cantidad de unidades.\n",
    "- **Weight:** Peso medio.\n",
    "- **Color:** Color.\n",
    "- **Expensive:** Si la remesa es cara o no (según el criterio del vendedor).\n",
    "\n",
    "La variable clase de este conjunto de datos (es decir, la variable que se busca predecir) es la variable *Expensive*. Teniendo esto en cuenta, inicializamos nuestro conjunto de datos a partir del fichero *fruits.csv* mediante la función *from_csv*. El nombre de la variable clase se indica a través del parámetro *c*."
   ]
  },
  {
   "cell_type": "code",
   "execution_count": 2,
   "metadata": {},
   "outputs": [],
   "source": [
    "MyDataset = dataset.Dataset()\n",
    "MyDataset.from_csv(\"./tutorial_data/fruits.csv\",header=True,c=\"Expensive\")"
   ]
  },
  {
   "cell_type": "markdown",
   "metadata": {},
   "source": [
    "La función *from_csv* no es la única forma de inicializar un objeto *Dataset*. Otra posible opción es pasar un dataframe a la función constructora de la clase que incluya la información del conjunto de datos. Si el objeto *Dataset* ya estaba creado con anterioridad, esto también se puede hacer a través de la función *set_data*. A continuación se muestran algunos ejemplos de estas formas alternativas de inicialización."
   ]
  },
  {
   "cell_type": "code",
   "execution_count": 3,
   "metadata": {},
   "outputs": [],
   "source": [
    "import pandas as pd\n",
    "\n",
    "df = pd.read_csv(\"./tutorial_data/fruits.csv\",header=0)\n",
    "\n",
    "MyDataset2 = dataset.Dataset(df,\"Expensive\")\n",
    "\n",
    "MyDataset3 = dataset.Dataset()\n",
    "MyDataset3.set_data(df,c=\"Expensive\")"
   ]
  },
  {
   "cell_type": "markdown",
   "metadata": {},
   "source": [
    "Una vez inicializado nuestro conjunto de datos, podemos visualizar su contenido. Para ello, utilizamos la función *print_dataset*."
   ]
  },
  {
   "cell_type": "code",
   "execution_count": 4,
   "metadata": {},
   "outputs": [
    {
     "data": {
      "text/html": [
       "<div>\n",
       "<style scoped>\n",
       "    .dataframe tbody tr th:only-of-type {\n",
       "        vertical-align: middle;\n",
       "    }\n",
       "\n",
       "    .dataframe tbody tr th {\n",
       "        vertical-align: top;\n",
       "    }\n",
       "\n",
       "    .dataframe thead th {\n",
       "        text-align: right;\n",
       "    }\n",
       "</style>\n",
       "<table border=\"1\" class=\"dataframe\">\n",
       "  <thead>\n",
       "    <tr style=\"text-align: right;\">\n",
       "      <th></th>\n",
       "      <th>Code</th>\n",
       "      <th>Fruit</th>\n",
       "      <th>Quantity</th>\n",
       "      <th>Weight</th>\n",
       "      <th>Color</th>\n",
       "      <th>Expensive</th>\n",
       "    </tr>\n",
       "  </thead>\n",
       "  <tbody>\n",
       "    <tr>\n",
       "      <th>0</th>\n",
       "      <td>1</td>\n",
       "      <td>Apple</td>\n",
       "      <td>3</td>\n",
       "      <td>2.2</td>\n",
       "      <td>Red</td>\n",
       "      <td>False</td>\n",
       "    </tr>\n",
       "    <tr>\n",
       "      <th>1</th>\n",
       "      <td>4</td>\n",
       "      <td>Orange</td>\n",
       "      <td>2</td>\n",
       "      <td>3.1</td>\n",
       "      <td>Orange</td>\n",
       "      <td>False</td>\n",
       "    </tr>\n",
       "    <tr>\n",
       "      <th>2</th>\n",
       "      <td>3</td>\n",
       "      <td>Banana</td>\n",
       "      <td>5</td>\n",
       "      <td>1.0</td>\n",
       "      <td>Yellow</td>\n",
       "      <td>True</td>\n",
       "    </tr>\n",
       "    <tr>\n",
       "      <th>3</th>\n",
       "      <td>5</td>\n",
       "      <td>Watermelon</td>\n",
       "      <td>4</td>\n",
       "      <td>9.7</td>\n",
       "      <td>Green</td>\n",
       "      <td>True</td>\n",
       "    </tr>\n",
       "    <tr>\n",
       "      <th>4</th>\n",
       "      <td>1</td>\n",
       "      <td>Apple</td>\n",
       "      <td>8</td>\n",
       "      <td>1.6</td>\n",
       "      <td>Green</td>\n",
       "      <td>False</td>\n",
       "    </tr>\n",
       "    <tr>\n",
       "      <th>5</th>\n",
       "      <td>19</td>\n",
       "      <td>Guava</td>\n",
       "      <td>7</td>\n",
       "      <td>4.5</td>\n",
       "      <td>Green</td>\n",
       "      <td>True</td>\n",
       "    </tr>\n",
       "    <tr>\n",
       "      <th>6</th>\n",
       "      <td>12</td>\n",
       "      <td>Pineapple</td>\n",
       "      <td>1</td>\n",
       "      <td>6.5</td>\n",
       "      <td>Brown</td>\n",
       "      <td>True</td>\n",
       "    </tr>\n",
       "    <tr>\n",
       "      <th>7</th>\n",
       "      <td>8</td>\n",
       "      <td>Lima</td>\n",
       "      <td>4</td>\n",
       "      <td>2.3</td>\n",
       "      <td>Green</td>\n",
       "      <td>False</td>\n",
       "    </tr>\n",
       "    <tr>\n",
       "      <th>8</th>\n",
       "      <td>7</td>\n",
       "      <td>Lemon</td>\n",
       "      <td>1</td>\n",
       "      <td>3.8</td>\n",
       "      <td>Yellow</td>\n",
       "      <td>True</td>\n",
       "    </tr>\n",
       "    <tr>\n",
       "      <th>9</th>\n",
       "      <td>2</td>\n",
       "      <td>Pear</td>\n",
       "      <td>6</td>\n",
       "      <td>2.4</td>\n",
       "      <td>Green</td>\n",
       "      <td>True</td>\n",
       "    </tr>\n",
       "  </tbody>\n",
       "</table>\n",
       "</div>"
      ],
      "text/plain": [
       "   Code       Fruit  Quantity  Weight   Color  Expensive\n",
       "0     1       Apple         3     2.2     Red      False\n",
       "1     4      Orange         2     3.1  Orange      False\n",
       "2     3      Banana         5     1.0  Yellow       True\n",
       "3     5  Watermelon         4     9.7   Green       True\n",
       "4     1       Apple         8     1.6   Green      False\n",
       "5    19       Guava         7     4.5   Green       True\n",
       "6    12   Pineapple         1     6.5   Brown       True\n",
       "7     8        Lima         4     2.3   Green      False\n",
       "8     7       Lemon         1     3.8  Yellow       True\n",
       "9     2        Pear         6     2.4   Green       True"
      ]
     },
     "metadata": {},
     "output_type": "display_data"
    },
    {
     "name": "stdout",
     "output_type": "stream",
     "text": [
      "Dataset class: Expensive\n"
     ]
    }
   ],
   "source": [
    "MyDataset.print_dataset()"
   ]
  },
  {
   "cell_type": "markdown",
   "metadata": {},
   "source": [
    "Como se puede observar, los contenidos del conjunto de datos se imprimen en formato tabla. Además, también se indica el nombre de la variable clase. Si bien este tipo de visualización es muy similar a la que podemos obtener mediante dataframes, cabe destacar que la estructura interna de la clase *Dataset* NO es un dataframe, sino un diccionario donde cada entrada corresponde a un atributo. En caso de querer obtener un dataframe equivalente, podemos conseguirlo mediante la función *to_dataframe*."
   ]
  },
  {
   "cell_type": "code",
   "execution_count": 5,
   "metadata": {
    "scrolled": true
   },
   "outputs": [
    {
     "data": {
      "text/html": [
       "<div>\n",
       "<style scoped>\n",
       "    .dataframe tbody tr th:only-of-type {\n",
       "        vertical-align: middle;\n",
       "    }\n",
       "\n",
       "    .dataframe tbody tr th {\n",
       "        vertical-align: top;\n",
       "    }\n",
       "\n",
       "    .dataframe thead th {\n",
       "        text-align: right;\n",
       "    }\n",
       "</style>\n",
       "<table border=\"1\" class=\"dataframe\">\n",
       "  <thead>\n",
       "    <tr style=\"text-align: right;\">\n",
       "      <th></th>\n",
       "      <th>Code</th>\n",
       "      <th>Fruit</th>\n",
       "      <th>Quantity</th>\n",
       "      <th>Weight</th>\n",
       "      <th>Color</th>\n",
       "      <th>Expensive</th>\n",
       "    </tr>\n",
       "  </thead>\n",
       "  <tbody>\n",
       "    <tr>\n",
       "      <th>0</th>\n",
       "      <td>1</td>\n",
       "      <td>Apple</td>\n",
       "      <td>3</td>\n",
       "      <td>2.2</td>\n",
       "      <td>Red</td>\n",
       "      <td>False</td>\n",
       "    </tr>\n",
       "    <tr>\n",
       "      <th>1</th>\n",
       "      <td>4</td>\n",
       "      <td>Orange</td>\n",
       "      <td>2</td>\n",
       "      <td>3.1</td>\n",
       "      <td>Orange</td>\n",
       "      <td>False</td>\n",
       "    </tr>\n",
       "    <tr>\n",
       "      <th>2</th>\n",
       "      <td>3</td>\n",
       "      <td>Banana</td>\n",
       "      <td>5</td>\n",
       "      <td>1.0</td>\n",
       "      <td>Yellow</td>\n",
       "      <td>True</td>\n",
       "    </tr>\n",
       "    <tr>\n",
       "      <th>3</th>\n",
       "      <td>5</td>\n",
       "      <td>Watermelon</td>\n",
       "      <td>4</td>\n",
       "      <td>9.7</td>\n",
       "      <td>Green</td>\n",
       "      <td>True</td>\n",
       "    </tr>\n",
       "    <tr>\n",
       "      <th>4</th>\n",
       "      <td>1</td>\n",
       "      <td>Apple</td>\n",
       "      <td>8</td>\n",
       "      <td>1.6</td>\n",
       "      <td>Green</td>\n",
       "      <td>False</td>\n",
       "    </tr>\n",
       "    <tr>\n",
       "      <th>5</th>\n",
       "      <td>19</td>\n",
       "      <td>Guava</td>\n",
       "      <td>7</td>\n",
       "      <td>4.5</td>\n",
       "      <td>Green</td>\n",
       "      <td>True</td>\n",
       "    </tr>\n",
       "    <tr>\n",
       "      <th>6</th>\n",
       "      <td>12</td>\n",
       "      <td>Pineapple</td>\n",
       "      <td>1</td>\n",
       "      <td>6.5</td>\n",
       "      <td>Brown</td>\n",
       "      <td>True</td>\n",
       "    </tr>\n",
       "    <tr>\n",
       "      <th>7</th>\n",
       "      <td>8</td>\n",
       "      <td>Lima</td>\n",
       "      <td>4</td>\n",
       "      <td>2.3</td>\n",
       "      <td>Green</td>\n",
       "      <td>False</td>\n",
       "    </tr>\n",
       "    <tr>\n",
       "      <th>8</th>\n",
       "      <td>7</td>\n",
       "      <td>Lemon</td>\n",
       "      <td>1</td>\n",
       "      <td>3.8</td>\n",
       "      <td>Yellow</td>\n",
       "      <td>True</td>\n",
       "    </tr>\n",
       "    <tr>\n",
       "      <th>9</th>\n",
       "      <td>2</td>\n",
       "      <td>Pear</td>\n",
       "      <td>6</td>\n",
       "      <td>2.4</td>\n",
       "      <td>Green</td>\n",
       "      <td>True</td>\n",
       "    </tr>\n",
       "  </tbody>\n",
       "</table>\n",
       "</div>"
      ],
      "text/plain": [
       "   Code       Fruit  Quantity  Weight   Color  Expensive\n",
       "0     1       Apple         3     2.2     Red      False\n",
       "1     4      Orange         2     3.1  Orange      False\n",
       "2     3      Banana         5     1.0  Yellow       True\n",
       "3     5  Watermelon         4     9.7   Green       True\n",
       "4     1       Apple         8     1.6   Green      False\n",
       "5    19       Guava         7     4.5   Green       True\n",
       "6    12   Pineapple         1     6.5   Brown       True\n",
       "7     8        Lima         4     2.3   Green      False\n",
       "8     7       Lemon         1     3.8  Yellow       True\n",
       "9     2        Pear         6     2.4   Green       True"
      ]
     },
     "metadata": {},
     "output_type": "display_data"
    },
    {
     "data": {
      "text/plain": [
       "pandas.core.frame.DataFrame"
      ]
     },
     "execution_count": 5,
     "metadata": {},
     "output_type": "execute_result"
    }
   ],
   "source": [
    "df = MyDataset.to_dataframe()\n",
    "display(df)\n",
    "type(df)"
   ]
  },
  {
   "cell_type": "markdown",
   "metadata": {},
   "source": [
    "Además de la visualización global del conjunto de datos, el paquete *datapack* también ofrece la opción de consultar la información de cada uno de los atributos por separado. Para ello, los atributos individuales se pueden obtener mediante la función *get_attribute*. Después, usamos la función *print_data* para imprimir su información."
   ]
  },
  {
   "cell_type": "code",
   "execution_count": 6,
   "metadata": {},
   "outputs": [
    {
     "name": "stdout",
     "output_type": "stream",
     "text": [
      "Attribute type: Numerical\n",
      "Attribute values:\n",
      "0     1\n",
      "1     4\n",
      "2     3\n",
      "3     5\n",
      "4     1\n",
      "5    19\n",
      "6    12\n",
      "7     8\n",
      "8     7\n",
      "9     2\n",
      "Name: Code, dtype: int64\n",
      "\n",
      "Attribute type: String\n",
      "Attribute values:\n",
      "0         Apple\n",
      "1        Orange\n",
      "2        Banana\n",
      "3    Watermelon\n",
      "4         Apple\n",
      "5         Guava\n",
      "6     Pineapple\n",
      "7          Lima\n",
      "8         Lemon\n",
      "9          Pear\n",
      "Name: Fruit, dtype: object\n",
      "\n",
      "Attribute type: Numerical\n",
      "Attribute values:\n",
      "0    3\n",
      "1    2\n",
      "2    5\n",
      "3    4\n",
      "4    8\n",
      "5    7\n",
      "6    1\n",
      "7    4\n",
      "8    1\n",
      "9    6\n",
      "Name: Quantity, dtype: int64\n",
      "\n",
      "Attribute type: Numerical\n",
      "Attribute values:\n",
      "0    2.2\n",
      "1    3.1\n",
      "2    1.0\n",
      "3    9.7\n",
      "4    1.6\n",
      "5    4.5\n",
      "6    6.5\n",
      "7    2.3\n",
      "8    3.8\n",
      "9    2.4\n",
      "Name: Weight, dtype: float64\n",
      "\n",
      "Attribute type: String\n",
      "Attribute values:\n",
      "0       Red\n",
      "1    Orange\n",
      "2    Yellow\n",
      "3     Green\n",
      "4     Green\n",
      "5     Green\n",
      "6     Brown\n",
      "7     Green\n",
      "8    Yellow\n",
      "9     Green\n",
      "Name: Color, dtype: object\n",
      "\n",
      "Attribute type: Boolean\n",
      "Attribute values:\n",
      "0    False\n",
      "1    False\n",
      "2     True\n",
      "3     True\n",
      "4    False\n",
      "5     True\n",
      "6     True\n",
      "7    False\n",
      "8     True\n",
      "9     True\n",
      "Name: Expensive, dtype: bool\n"
     ]
    }
   ],
   "source": [
    "MyDataset.get_attribute(\"Code\").print_data()\n",
    "print()\n",
    "MyDataset.get_attribute(\"Fruit\").print_data()\n",
    "print()\n",
    "MyDataset.get_attribute(\"Quantity\").print_data()\n",
    "print()\n",
    "MyDataset.get_attribute(\"Weight\").print_data()\n",
    "print()\n",
    "MyDataset.get_attribute(\"Color\").print_data()\n",
    "print()\n",
    "MyDataset.get_attribute(\"Expensive\").print_data()"
   ]
  },
  {
   "cell_type": "markdown",
   "metadata": {},
   "source": [
    "Como se puede observar, las variables de nuestro conjunto de datos son de tres tipos distintos: tipo numérico (clase *Numerical*), tipo string (clase *String*) y tipo lógico (clase *Boolean*). Sin embargo, hay otro tipo de datos con los que se puede trabajar en la librería *datapack*: los datos categóricos (clase *Categorical*).\n",
    "\n",
    "Este tipo de datos son equivalentes a las variables tipo *factor* en R. La principal particularidad de los datos categóricos es que solo pueden tomar una cierta cantidad de valores. Por ejemplo, imaginemos que tenemos una variable *Shop* que nos indica en qué tienda está disponible una remesa de frutas concreta. Si solo hay dos fruterias en la ciudad (por ejemplo, *Tienda Marlo* y *Tienda Pepe*), sabemos que cualquier otro valor que se introduzca en dicha variable es incorrecto. Por lo tanto, en estos casos el tipo de variable categórico es la mejor opción.\n",
    "\n",
    "Como ejemplo, añadimos el atributo categórico *Shop* a nuestro conjunto de datos. Para ello, primero hay que añadirlo como variable tipo string mediante la función *add_attribute*, y después utilizar la función *to_categorical_attribute* para convertirlo en un atributo categórico. La colección de valores admitidos en la variable categórica se indica mediante el parámetro *values*."
   ]
  },
  {
   "cell_type": "code",
   "execution_count": 7,
   "metadata": {
    "scrolled": true
   },
   "outputs": [
    {
     "name": "stdout",
     "output_type": "stream",
     "text": [
      "Attribute type: Categorical\n",
      "Allowed values:  {'Tienda Marlo', 'Tienda Pepe'}\n",
      "Attribute values:\n",
      "0    Tienda Marlo\n",
      "1    Tienda Marlo\n",
      "2     Tienda Pepe\n",
      "3     Tienda Pepe\n",
      "4    Tienda Marlo\n",
      "5    Tienda Marlo\n",
      "6    Tienda Marlo\n",
      "7     Tienda Pepe\n",
      "8    Tienda Marlo\n",
      "9    Tienda Marlo\n",
      "dtype: object\n"
     ]
    }
   ],
   "source": [
    "MyDataset.add_attribute(\"Shop\",[\"Tienda Marlo\",\"Tienda Marlo\",\"Tienda Pepe\",\"Tienda Pepe\",\"Tienda Marlo\",\"Tienda Marlo\",\"Tienda Marlo\",\"Tienda Pepe\",\"Tienda Marlo\",\"Tienda Marlo\"])\n",
    "MyDataset.to_categorical_attribute(\"Shop\",values=[\"Tienda Marlo\",\"Tienda Pepe\"])\n",
    "MyDataset.get_attribute(\"Shop\").print_data()"
   ]
  },
  {
   "cell_type": "markdown",
   "metadata": {},
   "source": [
    "De esta forma, ya hemos creado un atributo categórico. Si intentamos modificar la primera entrada de dicho atributo mediante la función *update_instance* y le asignamos un valor que no está dentro de los valores permitidos, obtenemos un error."
   ]
  },
  {
   "cell_type": "code",
   "execution_count": 8,
   "metadata": {},
   "outputs": [
    {
     "name": "stdout",
     "output_type": "stream",
     "text": [
      "ERROR:  Invalid new value. Allowed values are: {'Tienda Marlo', 'Tienda Pepe'}\n"
     ]
    }
   ],
   "source": [
    "try:\n",
    "    MyDataset.update_instance(0,\"Shop\",\"Tienda Maria\")\n",
    "except NameError as e:\n",
    "    print(\"ERROR: \",e)"
   ]
  },
  {
   "cell_type": "markdown",
   "metadata": {},
   "source": [
    "Al igual que podemos añadir atributos, también tenemos la opción de eliminar los ya existentes mediante la función *remove_attribute*. Una vez hayamos terminado de trabajar con nuestro conjunto de datos, la función *to_csv* nos permite guardar todos los cambios realizados en un fichero *.csv*."
   ]
  },
  {
   "cell_type": "code",
   "execution_count": 9,
   "metadata": {},
   "outputs": [],
   "source": [
    "MyDataset.to_csv(\"./tutorial_data/fruits_new.csv\",header=True,sep=\";\")"
   ]
  },
  {
   "cell_type": "markdown",
   "metadata": {},
   "source": [
    "## Métricas para la exploración de datos\n",
    "\n",
    "Además de las funcionalidades para la gestión del conjunto de datos, la clase *Dataset* ofrece una colección de métricas univariadas y bivariadas que pueden ser muy útiles a la hora de realizar un análisis exploratorio. Dichas métricas pueden calcularse para un solo atributo o para todos al mismo tiempo.\n",
    "\n",
    "### Métricas univariadas\n",
    "\n",
    "La librería *datapack* dispone de métricas univariadas tanto para atributos numéricos como no numéricos. En el caso de las variables numéricas, podemos calcular la media, la mediana y la varianza de los datos. Esto se puede realizar mediante las funciones *mean*, *median* y *variance* en el caso de un único atributo, y mediante las funciones *mean_att*, *median_att* y *variance_att* en el caso del conjunto de datos entero."
   ]
  },
  {
   "cell_type": "code",
   "execution_count": 10,
   "metadata": {
    "scrolled": true
   },
   "outputs": [
    {
     "name": "stdout",
     "output_type": "stream",
     "text": [
      "Mean of Weight:\n",
      "3.7099999999999995\n",
      "\n",
      "Median of Weight:\n",
      "2.75\n",
      "\n",
      "Variance of Weight:\n",
      "6.938777777777777\n",
      "\n",
      "Mean of all the numerical attributes:\n",
      "{'Code': 6.2, 'Fruit': nan, 'Quantity': 4.1, 'Weight': 3.7099999999999995, 'Color': nan, 'Expensive': nan, 'Shop': nan}\n",
      "\n",
      "Median of all the numerical attributes:\n",
      "{'Code': 4.5, 'Fruit': nan, 'Quantity': 4.0, 'Weight': 2.75, 'Color': nan, 'Expensive': nan, 'Shop': nan}\n",
      "\n",
      "Variance of all the numerical attributes:\n",
      "{'Code': 32.17777777777778, 'Fruit': nan, 'Quantity': 5.877777777777777, 'Weight': 6.938777777777777, 'Color': nan, 'Expensive': nan, 'Shop': nan}\n"
     ]
    }
   ],
   "source": [
    "print(\"Mean of Weight:\")\n",
    "print(MyDataset.mean(\"Weight\"))\n",
    "print()\n",
    "print(\"Median of Weight:\")\n",
    "print(MyDataset.median(\"Weight\"))\n",
    "print()\n",
    "print(\"Variance of Weight:\")\n",
    "print(MyDataset.variance(\"Weight\"))\n",
    "print()\n",
    "print(\"Mean of all the numerical attributes:\")\n",
    "print(MyDataset.mean_att())\n",
    "print()\n",
    "print(\"Median of all the numerical attributes:\")\n",
    "print(MyDataset.median_att())\n",
    "print()\n",
    "print(\"Variance of all the numerical attributes:\")\n",
    "print(MyDataset.variance_att())"
   ]
  },
  {
   "cell_type": "markdown",
   "metadata": {},
   "source": [
    "Como se puede observar, las funciones que calculan las métricas para el conjunto de datos completo devuelven un diccionario con los resultados correspondientes para cada atributo. En caso de que una métrica no pueda aplicarse a un atributo concreto (por ejemplo, la media a una variable tipo string), se devuelve el valor **nan**.\n",
    "\n",
    "Pasando ahora a las variables no numéricas (string, boolean...), las métricas univariadas disponibles son la moda y la entropía. Dichas métricas se pueden calcular a través de las funciones *mode* y *entropy* en el caso de un único atributo, y a través las funciones *mode_att* y *entropy_att* en el caso del conjunto de datos entero."
   ]
  },
  {
   "cell_type": "code",
   "execution_count": 11,
   "metadata": {},
   "outputs": [
    {
     "name": "stdout",
     "output_type": "stream",
     "text": [
      "Mode of Color:\n",
      "Green\n",
      "\n",
      "Entropy of Color:\n",
      "1.9609640474436814\n",
      "\n",
      "Mode of all the non-numerical attributes:\n",
      "{'Code': nan, 'Fruit': 'Apple', 'Quantity': nan, 'Weight': nan, 'Color': 'Green', 'Expensive': True, 'Shop': 'Tienda Marlo'}\n",
      "\n",
      "Entropy of all the non-numerical attributes:\n",
      "{'Code': nan, 'Fruit': 3.121928094887362, 'Quantity': nan, 'Weight': nan, 'Color': 1.9609640474436814, 'Expensive': 0.9709505944546686, 'Shop': 0.8812908992306927}\n"
     ]
    }
   ],
   "source": [
    "print(\"Mode of Color:\")\n",
    "print(MyDataset.mode(\"Color\"))\n",
    "print()\n",
    "print(\"Entropy of Color:\")\n",
    "print(MyDataset.entropy(\"Color\"))\n",
    "print()\n",
    "print(\"Mode of all the non-numerical attributes:\")\n",
    "print(MyDataset.mode_att())\n",
    "print()\n",
    "print(\"Entropy of all the non-numerical attributes:\")\n",
    "print(MyDataset.entropy_att())"
   ]
  },
  {
   "cell_type": "markdown",
   "metadata": {},
   "source": [
    "### Métricas bivariadas\n",
    "\n",
    "Además de las métricas univariadas, la librería *datapack* también incluye una pequeña colección de métricas bivariadas que sirven para analizar la relación entre pares de variables. Por ejemplo, dadas dos variables numéricas, la función *correlation* permite calcular la correlación entre las mismas. El coeficiente de correlación a utilizar puede ser especificado a través del parámetro *method*, donde las opciones disponibles son Pearson, Spearman y Kendall. En caso de querer calcular las correlaciones entre todos los pares de variables numéricas, la matriz de correlación completa puede ser calculada a través de la función *correlation_att*."
   ]
  },
  {
   "cell_type": "code",
   "execution_count": 12,
   "metadata": {},
   "outputs": [
    {
     "name": "stdout",
     "output_type": "stream",
     "text": [
      "Pearson correlation between Weight and Quantity:\n",
      "-0.30116637922050404\n",
      "\n",
      "Spearman correlation between Weight and Quantity:\n",
      "-0.3963488316574177\n",
      "\n",
      "Kendall correlation between Weight and Quantity:\n",
      "-0.29553088043720516\n",
      "\n",
      "Pearson correlation matrix:\n",
      "Code :  {'Code': 1.0, 'Fruit': nan, 'Quantity': -0.03393299363302283, 'Weight': 0.37908605443198395, 'Color': nan, 'Expensive': nan, 'Shop': nan}\n",
      "Fruit :  {'Code': nan, 'Fruit': nan, 'Quantity': nan, 'Weight': nan, 'Color': nan, 'Expensive': nan, 'Shop': nan}\n",
      "Quantity :  {'Code': -0.03393299363302283, 'Fruit': nan, 'Quantity': 1.0, 'Weight': -0.30116637922050404, 'Color': nan, 'Expensive': nan, 'Shop': nan}\n",
      "Weight :  {'Code': 0.379086054431984, 'Fruit': nan, 'Quantity': -0.30116637922050404, 'Weight': 1.0, 'Color': nan, 'Expensive': nan, 'Shop': nan}\n",
      "Color :  {'Code': nan, 'Fruit': nan, 'Quantity': nan, 'Weight': nan, 'Color': nan, 'Expensive': nan, 'Shop': nan}\n",
      "Expensive :  {'Code': nan, 'Fruit': nan, 'Quantity': nan, 'Weight': nan, 'Color': nan, 'Expensive': nan, 'Shop': nan}\n",
      "Shop :  {'Code': nan, 'Fruit': nan, 'Quantity': nan, 'Weight': nan, 'Color': nan, 'Expensive': nan, 'Shop': nan}\n"
     ]
    }
   ],
   "source": [
    "print(\"Pearson correlation between Weight and Quantity:\")\n",
    "print(MyDataset.correlation(\"Weight\",\"Quantity\",method=\"pearson\"))\n",
    "print()\n",
    "print(\"Spearman correlation between Weight and Quantity:\")\n",
    "print(MyDataset.correlation(\"Weight\",\"Quantity\",method=\"spearman\"))\n",
    "print()\n",
    "print(\"Kendall correlation between Weight and Quantity:\")\n",
    "print(MyDataset.correlation(\"Weight\",\"Quantity\",method=\"kendall\"))\n",
    "print()\n",
    "print(\"Pearson correlation matrix:\")\n",
    "mat = MyDataset.correlation_att(method=\"pearson\")\n",
    "for key,val in mat.items():\n",
    "    print(key,\": \",val)"
   ]
  },
  {
   "cell_type": "markdown",
   "metadata": {},
   "source": [
    "Dado que la matriz de correlaciones se devuelve como un diccionario de diccionarios, visualizar los resultados en formato de texto puede resultar algo confuso. Por este motivo, tenemos la opción de visualizar la matriz de correlaciones en forma de mapa de calor a través de la función *plot_correlation*. Todas las gráficas que ofrece el paquete *datapack* están generadas mediante las librerías *matplotlib* y *seaborn*."
   ]
  },
  {
   "cell_type": "code",
   "execution_count": 13,
   "metadata": {},
   "outputs": [
    {
     "name": "stdout",
     "output_type": "stream",
     "text": [
      "Pearson correlation matrix:\n"
     ]
    },
    {
     "data": {
      "image/png": "[encoded data removed]",
      "text/plain": [
       "<Figure size 640x480 with 2 Axes>"
      ]
     },
     "metadata": {},
     "output_type": "display_data"
    }
   ],
   "source": [
    "print(\"Pearson correlation matrix:\")\n",
    "plots.plot_correlation(MyDataset,method=\"pearson\")"
   ]
  },
  {
   "cell_type": "markdown",
   "metadata": {},
   "source": [
    "En el caso de las variables no numéricas, la métrica bivariada de interrelación que está disponible en la librería es la información mutua normalizada ($NMI$). Esta métrica se calcula de la siguiente forma:\n",
    "\n",
    "$NMI(X;Y) = \\frac{2I(X;Y)}{H(X)+H(Y)}$\n",
    "\n",
    "donde $I$ es la información mutua entre variables y $H$ es la entropía. La $NMI$ puede calcularse para un par de atributos (*norm_mutual_info*) o para el conjunto de datos entero (*norm_mutual_info_att*)."
   ]
  },
  {
   "cell_type": "code",
   "execution_count": 14,
   "metadata": {},
   "outputs": [
    {
     "name": "stdout",
     "output_type": "stream",
     "text": [
      "Normalized mutual information between Fruit and Color:\n",
      "0.692898451563874\n",
      "\n",
      "Normalized mutual information matrix:\n",
      "Code :  {'Code': nan, 'Fruit': nan, 'Quantity': nan, 'Weight': nan, 'Color': nan, 'Expensive': nan, 'Shop': nan}\n",
      "Fruit :  {'Code': nan, 'Fruit': 1.0, 'Quantity': nan, 'Weight': nan, 'Color': 0.692898451563874, 'Expensive': 0.47445852572325226, 'Shop': 0.4402911259791566}\n",
      "Quantity :  {'Code': nan, 'Fruit': nan, 'Quantity': nan, 'Weight': nan, 'Color': nan, 'Expensive': nan, 'Shop': nan}\n",
      "Weight :  {'Code': nan, 'Fruit': nan, 'Quantity': nan, 'Weight': nan, 'Color': nan, 'Expensive': nan, 'Shop': nan}\n",
      "Color :  {'Code': nan, 'Fruit': 0.6928984515638742, 'Quantity': nan, 'Weight': nan, 'Color': 1.0, 'Expensive': 0.3311660512142331, 'Shop': 0.13778890752391917}\n",
      "Expensive :  {'Code': nan, 'Fruit': 0.47445852572325237, 'Quantity': nan, 'Weight': nan, 'Color': 0.331166051214233, 'Expensive': 1.0, 'Shop': 0.006265002737630303}\n",
      "Shop :  {'Code': nan, 'Fruit': 0.4402911259791567, 'Quantity': nan, 'Weight': nan, 'Color': 0.137788907523919, 'Expensive': 0.006265002737630542, 'Shop': 1.0}\n"
     ]
    }
   ],
   "source": [
    "print(\"Normalized mutual information between Fruit and Color:\")\n",
    "print(MyDataset.norm_mutual_info(\"Fruit\",\"Color\"))\n",
    "print()\n",
    "print(\"Normalized mutual information matrix:\")\n",
    "mat = MyDataset.norm_mutual_info_att()\n",
    "for key,val in mat.items():\n",
    "    print(key,\": \",val)"
   ]
  },
  {
   "cell_type": "markdown",
   "metadata": {},
   "source": [
    "Al igual que en el caso de la correlación, la matriz de informaciones mutuas se puede visualizar en forma de mapa de calor mediante la función *plot_norm_mutual_info*."
   ]
  },
  {
   "cell_type": "code",
   "execution_count": 15,
   "metadata": {
    "scrolled": false
   },
   "outputs": [
    {
     "name": "stdout",
     "output_type": "stream",
     "text": [
      "Normalized mutual information matrix:\n"
     ]
    },
    {
     "data": {
      "image/png": "[encoded data removed]",
      "text/plain": [
       "<Figure size 640x480 with 2 Axes>"
      ]
     },
     "metadata": {},
     "output_type": "display_data"
    }
   ],
   "source": [
    "print(\"Normalized mutual information matrix:\")\n",
    "plots.plot_norm_mutual_info(MyDataset)"
   ]
  },
  {
   "cell_type": "markdown",
   "metadata": {},
   "source": [
    "Además del cálculo de interrelaciones entre pares de atributos, otra métrica muy útil que se nos proporciona en la librería *datapack* es el cálculo del área bajo la curva ROC (AUC). Dado un atributo numérico y una clase lógica, el area bajo la curva ROC se calcula a partir de los resultados obtenidos utilizando el atributo numérico para predecir el valor de la clase. Es decir, lo que se hace es comprobar lo qué ocurriría si considerásemos todos los valores de la variable numérica como puntos de corte para decidir si la clase es True (por encima del punto de corte) o False (por debajo del punto de corte). Cuanto mayor el área bajo la curva ROC, mayor el potencial de la variable numérica a la hora de predecir el valor de la clase.\n",
    "\n",
    "El cálculo del área bajo la curva ROC se puede realizar mediante la función *roc_auc*. Si lo que queremos es obtener el AUC para todas las variables numéricas, podemos utilizar la función *roc_auc_att*. Como la clase ya ha sido especificada durante la inicialización del conjunto de datos, no es necesario volver a indicarla en este punto."
   ]
  },
  {
   "cell_type": "code",
   "execution_count": 16,
   "metadata": {},
   "outputs": [
    {
     "name": "stdout",
     "output_type": "stream",
     "text": [
      "AUC for the Weight (Class variable: Expensive):\n",
      "0.7916666666666666\n",
      "\n",
      "AUC for all the numerical attributes (Class variable: Expensive):\n",
      "Code :  0.75\n",
      "Fruit :  nan\n",
      "Quantity :  0.47916666666666663\n",
      "Weight :  0.7916666666666666\n",
      "Color :  nan\n",
      "Expensive :  nan\n",
      "Shop :  nan\n"
     ]
    }
   ],
   "source": [
    "print(\"AUC for the Weight (Class variable: Expensive):\")\n",
    "print(MyDataset.roc_auc(\"Weight\"))\n",
    "print()\n",
    "print(\"AUC for all the numerical attributes (Class variable: Expensive):\")\n",
    "mat = MyDataset.roc_auc_att()\n",
    "for key,val in mat.items():\n",
    "    print(key,\": \",val)"
   ]
  },
  {
   "cell_type": "markdown",
   "metadata": {},
   "source": [
    "Para una mejor visualización de los resultados, la función *plot_roc* nos ofrece la posibilidad de representar gráficamente la curva ROC de una variable concreta. El valor de AUC correspondiente se indica en la esquina inferior derecha."
   ]
  },
  {
   "cell_type": "code",
   "execution_count": 17,
   "metadata": {},
   "outputs": [
    {
     "name": "stdout",
     "output_type": "stream",
     "text": [
      "ROC curve for the Weight:\n"
     ]
    },
    {
     "data": {
      "image/png": "[encoded data removed]",
      "text/plain": [
       "<Figure size 640x480 with 1 Axes>"
      ]
     },
     "metadata": {},
     "output_type": "display_data"
    }
   ],
   "source": [
    "print(\"ROC curve for the Weight:\")\n",
    "plots.plot_roc(MyDataset,\"Weight\")"
   ]
  },
  {
   "cell_type": "markdown",
   "metadata": {},
   "source": [
    "## Funciones para el preproceso de atributos numéricos\n",
    "\n",
    "Otra de las opciones que más puede interesar a la hora de trabajar con un conjunto de datos es el preproceso de las variables numéricas. En esta librería se ofrecen tres funcionalidades principales para este propósito: la normalización, la estandarización y la discretización.\n",
    "\n",
    "Por un lado, la normalización es el proceso de transformar la escala de una variable al rango [0,1]. Esto suele ser interesante cuando los rangos de las variables son muy dispares, ya que de esta forma podemos convertir todos los atributos a un rango común. En este librería, la normalización se puede realizar mediante la función *normalize* en el caso de un solo atributo, y mediante la función *normalize_att* en el caso del conjunto de datos completo."
   ]
  },
  {
   "cell_type": "code",
   "execution_count": 18,
   "metadata": {},
   "outputs": [
    {
     "name": "stdout",
     "output_type": "stream",
     "text": [
      "Weight attribute before normalizing:\n",
      "Attribute type: Numerical\n",
      "Attribute values:\n",
      "0    2.2\n",
      "1    3.1\n",
      "2    1.0\n",
      "3    9.7\n",
      "4    1.6\n",
      "5    4.5\n",
      "6    6.5\n",
      "7    2.3\n",
      "8    3.8\n",
      "9    2.4\n",
      "Name: Weight, dtype: float64\n",
      "\n",
      "Weight attribute after normalizing:\n",
      "Attribute type: Numerical\n",
      "Attribute values:\n",
      "0    0.137931\n",
      "1    0.241379\n",
      "2    0.000000\n",
      "3    1.000000\n",
      "4    0.068966\n",
      "5    0.402299\n",
      "6    0.632184\n",
      "7    0.149425\n",
      "8    0.321839\n",
      "9    0.160920\n",
      "Name: Weight, dtype: float64\n"
     ]
    }
   ],
   "source": [
    "print(\"Weight attribute before normalizing:\")\n",
    "MyDataset.get_attribute(\"Weight\").print_data()\n",
    "print()\n",
    "print(\"Weight attribute after normalizing:\")\n",
    "MyDataset.normalize(\"Weight\")\n",
    "MyDataset.get_attribute(\"Weight\").print_data()"
   ]
  },
  {
   "cell_type": "markdown",
   "metadata": {},
   "source": [
    "Otra posible opción para homogeneizar los valores de las variables numéricas en un conjunto de datos es lo que se conoce como estandarización. Este proceso se basa en restar a una variable su media y después dividir el resultado por la desviación típica. De esta forma, los datos resultantes tendrán media 0 y desviación típica 1. La estandarización se puede aplicar utlizando la función *standarize* en el caso de un solo atributo, y mediante la función *standarize_att* en el caso del conjunto de datos entero."
   ]
  },
  {
   "cell_type": "code",
   "execution_count": 19,
   "metadata": {},
   "outputs": [
    {
     "name": "stdout",
     "output_type": "stream",
     "text": [
      "Quantity attribute before standarizing:\n",
      "Attribute type: Numerical\n",
      "Attribute values:\n",
      "0    3\n",
      "1    2\n",
      "2    5\n",
      "3    4\n",
      "4    8\n",
      "5    7\n",
      "6    1\n",
      "7    4\n",
      "8    1\n",
      "9    6\n",
      "Name: Quantity, dtype: int64\n",
      "\n",
      "Quantity attribute after standarizing:\n",
      "Attribute type: Numerical\n",
      "Attribute values:\n",
      "0   -0.453718\n",
      "1   -0.866189\n",
      "2    0.371224\n",
      "3   -0.041247\n",
      "4    1.608637\n",
      "5    1.196166\n",
      "6   -1.278660\n",
      "7   -0.041247\n",
      "8   -1.278660\n",
      "9    0.783695\n",
      "Name: Quantity, dtype: float64\n"
     ]
    }
   ],
   "source": [
    "print(\"Quantity attribute before standarizing:\")\n",
    "MyDataset.get_attribute(\"Quantity\").print_data()\n",
    "print()\n",
    "print(\"Quantity attribute after standarizing:\")\n",
    "MyDataset.standarize(\"Quantity\")\n",
    "MyDataset.get_attribute(\"Quantity\").print_data()"
   ]
  },
  {
   "cell_type": "markdown",
   "metadata": {},
   "source": [
    "Por último, la librería *datapack* también incluye técnicas de discretización. Es decir, ofrece la posibilidad de agrupar los distintos valores de las variables numéricas en intervalos, convertiéndolas así en variables categóricas. Las técnicas de discretización disponibles son las siguientes:\n",
    "\n",
    "- **Discretización *equal width*:** El rango de la variable numérica se divide en una cierta cantidad de intervalos (*num_bins*) de igual tamaño. Se puede aplicar mediante la función *discretize* con *method=width* en el caso de un solo atributo, y mediante la función *discretize_att* con *method=width* en el caso del conjunto de datos completo.\n",
    "\n",
    "- **Discretización *equal frequency*:** El rango de la variable numérica se divide en una cierta cantidad de intervalos (*num_bins*) tal que cada intervalo contiene la misma cantidad de observaciones (+/-1). Se puede aplicar mediante la función *discretize* con *method=frequency* en el caso de un solo atributo, y mediante la función *discretize_att* con *method=frequency* en el caso del conjunto de datos completo. **ADVERTENCIA:** En caso de haber observaciones con valores repetidos, este tipo de discretización podría producir resultados no deseados.\n",
    "\n",
    "- **Discretización personalizada:** El rango de la variable numérica se divide según los puntos de corte proporcionados (*cut_points*). Está disponible para un solo atributo mediante la función *discretize* con *method=custom*."
   ]
  },
  {
   "cell_type": "code",
   "execution_count": 20,
   "metadata": {},
   "outputs": [
    {
     "name": "stdout",
     "output_type": "stream",
     "text": [
      "Dataset before discretizing:\n"
     ]
    },
    {
     "data": {
      "text/html": [
       "<div>\n",
       "<style scoped>\n",
       "    .dataframe tbody tr th:only-of-type {\n",
       "        vertical-align: middle;\n",
       "    }\n",
       "\n",
       "    .dataframe tbody tr th {\n",
       "        vertical-align: top;\n",
       "    }\n",
       "\n",
       "    .dataframe thead th {\n",
       "        text-align: right;\n",
       "    }\n",
       "</style>\n",
       "<table border=\"1\" class=\"dataframe\">\n",
       "  <thead>\n",
       "    <tr style=\"text-align: right;\">\n",
       "      <th></th>\n",
       "      <th>Code</th>\n",
       "      <th>Fruit</th>\n",
       "      <th>Quantity</th>\n",
       "      <th>Weight</th>\n",
       "      <th>Color</th>\n",
       "      <th>Expensive</th>\n",
       "      <th>Shop</th>\n",
       "    </tr>\n",
       "  </thead>\n",
       "  <tbody>\n",
       "    <tr>\n",
       "      <th>0</th>\n",
       "      <td>1</td>\n",
       "      <td>Apple</td>\n",
       "      <td>-0.453718</td>\n",
       "      <td>0.137931</td>\n",
       "      <td>Red</td>\n",
       "      <td>False</td>\n",
       "      <td>Tienda Marlo</td>\n",
       "    </tr>\n",
       "    <tr>\n",
       "      <th>1</th>\n",
       "      <td>4</td>\n",
       "      <td>Orange</td>\n",
       "      <td>-0.866189</td>\n",
       "      <td>0.241379</td>\n",
       "      <td>Orange</td>\n",
       "      <td>False</td>\n",
       "      <td>Tienda Marlo</td>\n",
       "    </tr>\n",
       "    <tr>\n",
       "      <th>2</th>\n",
       "      <td>3</td>\n",
       "      <td>Banana</td>\n",
       "      <td>0.371224</td>\n",
       "      <td>0.000000</td>\n",
       "      <td>Yellow</td>\n",
       "      <td>True</td>\n",
       "      <td>Tienda Pepe</td>\n",
       "    </tr>\n",
       "    <tr>\n",
       "      <th>3</th>\n",
       "      <td>5</td>\n",
       "      <td>Watermelon</td>\n",
       "      <td>-0.041247</td>\n",
       "      <td>1.000000</td>\n",
       "      <td>Green</td>\n",
       "      <td>True</td>\n",
       "      <td>Tienda Pepe</td>\n",
       "    </tr>\n",
       "    <tr>\n",
       "      <th>4</th>\n",
       "      <td>1</td>\n",
       "      <td>Apple</td>\n",
       "      <td>1.608637</td>\n",
       "      <td>0.068966</td>\n",
       "      <td>Green</td>\n",
       "      <td>False</td>\n",
       "      <td>Tienda Marlo</td>\n",
       "    </tr>\n",
       "    <tr>\n",
       "      <th>5</th>\n",
       "      <td>19</td>\n",
       "      <td>Guava</td>\n",
       "      <td>1.196166</td>\n",
       "      <td>0.402299</td>\n",
       "      <td>Green</td>\n",
       "      <td>True</td>\n",
       "      <td>Tienda Marlo</td>\n",
       "    </tr>\n",
       "    <tr>\n",
       "      <th>6</th>\n",
       "      <td>12</td>\n",
       "      <td>Pineapple</td>\n",
       "      <td>-1.278660</td>\n",
       "      <td>0.632184</td>\n",
       "      <td>Brown</td>\n",
       "      <td>True</td>\n",
       "      <td>Tienda Marlo</td>\n",
       "    </tr>\n",
       "    <tr>\n",
       "      <th>7</th>\n",
       "      <td>8</td>\n",
       "      <td>Lima</td>\n",
       "      <td>-0.041247</td>\n",
       "      <td>0.149425</td>\n",
       "      <td>Green</td>\n",
       "      <td>False</td>\n",
       "      <td>Tienda Pepe</td>\n",
       "    </tr>\n",
       "    <tr>\n",
       "      <th>8</th>\n",
       "      <td>7</td>\n",
       "      <td>Lemon</td>\n",
       "      <td>-1.278660</td>\n",
       "      <td>0.321839</td>\n",
       "      <td>Yellow</td>\n",
       "      <td>True</td>\n",
       "      <td>Tienda Marlo</td>\n",
       "    </tr>\n",
       "    <tr>\n",
       "      <th>9</th>\n",
       "      <td>2</td>\n",
       "      <td>Pear</td>\n",
       "      <td>0.783695</td>\n",
       "      <td>0.160920</td>\n",
       "      <td>Green</td>\n",
       "      <td>True</td>\n",
       "      <td>Tienda Marlo</td>\n",
       "    </tr>\n",
       "  </tbody>\n",
       "</table>\n",
       "</div>"
      ],
      "text/plain": [
       "   Code       Fruit  Quantity    Weight   Color  Expensive          Shop\n",
       "0     1       Apple -0.453718  0.137931     Red      False  Tienda Marlo\n",
       "1     4      Orange -0.866189  0.241379  Orange      False  Tienda Marlo\n",
       "2     3      Banana  0.371224  0.000000  Yellow       True   Tienda Pepe\n",
       "3     5  Watermelon -0.041247  1.000000   Green       True   Tienda Pepe\n",
       "4     1       Apple  1.608637  0.068966   Green      False  Tienda Marlo\n",
       "5    19       Guava  1.196166  0.402299   Green       True  Tienda Marlo\n",
       "6    12   Pineapple -1.278660  0.632184   Brown       True  Tienda Marlo\n",
       "7     8        Lima -0.041247  0.149425   Green      False   Tienda Pepe\n",
       "8     7       Lemon -1.278660  0.321839  Yellow       True  Tienda Marlo\n",
       "9     2        Pear  0.783695  0.160920   Green       True  Tienda Marlo"
      ]
     },
     "metadata": {},
     "output_type": "display_data"
    },
    {
     "name": "stdout",
     "output_type": "stream",
     "text": [
      "Dataset class: Expensive\n",
      "\n",
      "Dataset after discretizing:\n"
     ]
    },
    {
     "data": {
      "text/html": [
       "<div>\n",
       "<style scoped>\n",
       "    .dataframe tbody tr th:only-of-type {\n",
       "        vertical-align: middle;\n",
       "    }\n",
       "\n",
       "    .dataframe tbody tr th {\n",
       "        vertical-align: top;\n",
       "    }\n",
       "\n",
       "    .dataframe thead th {\n",
       "        text-align: right;\n",
       "    }\n",
       "</style>\n",
       "<table border=\"1\" class=\"dataframe\">\n",
       "  <thead>\n",
       "    <tr style=\"text-align: right;\">\n",
       "      <th></th>\n",
       "      <th>Code</th>\n",
       "      <th>Fruit</th>\n",
       "      <th>Quantity</th>\n",
       "      <th>Weight</th>\n",
       "      <th>Color</th>\n",
       "      <th>Expensive</th>\n",
       "      <th>Shop</th>\n",
       "    </tr>\n",
       "  </thead>\n",
       "  <tbody>\n",
       "    <tr>\n",
       "      <th>0</th>\n",
       "      <td>(-infinity, 1]</td>\n",
       "      <td>Apple</td>\n",
       "      <td>(-1, 0]</td>\n",
       "      <td>(-infinity, 0.25]</td>\n",
       "      <td>Red</td>\n",
       "      <td>False</td>\n",
       "      <td>Tienda Marlo</td>\n",
       "    </tr>\n",
       "    <tr>\n",
       "      <th>1</th>\n",
       "      <td>(3, 5]</td>\n",
       "      <td>Orange</td>\n",
       "      <td>(-1, 0]</td>\n",
       "      <td>(-infinity, 0.25]</td>\n",
       "      <td>Orange</td>\n",
       "      <td>False</td>\n",
       "      <td>Tienda Marlo</td>\n",
       "    </tr>\n",
       "    <tr>\n",
       "      <th>2</th>\n",
       "      <td>(1, 3]</td>\n",
       "      <td>Banana</td>\n",
       "      <td>(0, 1]</td>\n",
       "      <td>(-infinity, 0.25]</td>\n",
       "      <td>Yellow</td>\n",
       "      <td>True</td>\n",
       "      <td>Tienda Pepe</td>\n",
       "    </tr>\n",
       "    <tr>\n",
       "      <th>3</th>\n",
       "      <td>(3, 5]</td>\n",
       "      <td>Watermelon</td>\n",
       "      <td>(-1, 0]</td>\n",
       "      <td>(0.75, infinity)</td>\n",
       "      <td>Green</td>\n",
       "      <td>True</td>\n",
       "      <td>Tienda Pepe</td>\n",
       "    </tr>\n",
       "    <tr>\n",
       "      <th>4</th>\n",
       "      <td>(-infinity, 1]</td>\n",
       "      <td>Apple</td>\n",
       "      <td>(1, infinity)</td>\n",
       "      <td>(-infinity, 0.25]</td>\n",
       "      <td>Green</td>\n",
       "      <td>False</td>\n",
       "      <td>Tienda Marlo</td>\n",
       "    </tr>\n",
       "    <tr>\n",
       "      <th>5</th>\n",
       "      <td>(8, infinity)</td>\n",
       "      <td>Guava</td>\n",
       "      <td>(1, infinity)</td>\n",
       "      <td>(0.25, 0.5]</td>\n",
       "      <td>Green</td>\n",
       "      <td>True</td>\n",
       "      <td>Tienda Marlo</td>\n",
       "    </tr>\n",
       "    <tr>\n",
       "      <th>6</th>\n",
       "      <td>(8, infinity)</td>\n",
       "      <td>Pineapple</td>\n",
       "      <td>(-infinity, -1]</td>\n",
       "      <td>(0.5, 0.75]</td>\n",
       "      <td>Brown</td>\n",
       "      <td>True</td>\n",
       "      <td>Tienda Marlo</td>\n",
       "    </tr>\n",
       "    <tr>\n",
       "      <th>7</th>\n",
       "      <td>(5, 8]</td>\n",
       "      <td>Lima</td>\n",
       "      <td>(-1, 0]</td>\n",
       "      <td>(-infinity, 0.25]</td>\n",
       "      <td>Green</td>\n",
       "      <td>False</td>\n",
       "      <td>Tienda Pepe</td>\n",
       "    </tr>\n",
       "    <tr>\n",
       "      <th>8</th>\n",
       "      <td>(5, 8]</td>\n",
       "      <td>Lemon</td>\n",
       "      <td>(-infinity, -1]</td>\n",
       "      <td>(0.25, 0.5]</td>\n",
       "      <td>Yellow</td>\n",
       "      <td>True</td>\n",
       "      <td>Tienda Marlo</td>\n",
       "    </tr>\n",
       "    <tr>\n",
       "      <th>9</th>\n",
       "      <td>(1, 3]</td>\n",
       "      <td>Pear</td>\n",
       "      <td>(0, 1]</td>\n",
       "      <td>(-infinity, 0.25]</td>\n",
       "      <td>Green</td>\n",
       "      <td>True</td>\n",
       "      <td>Tienda Marlo</td>\n",
       "    </tr>\n",
       "  </tbody>\n",
       "</table>\n",
       "</div>"
      ],
      "text/plain": [
       "             Code       Fruit         Quantity             Weight   Color  \\\n",
       "0  (-infinity, 1]       Apple          (-1, 0]  (-infinity, 0.25]     Red   \n",
       "1          (3, 5]      Orange          (-1, 0]  (-infinity, 0.25]  Orange   \n",
       "2          (1, 3]      Banana           (0, 1]  (-infinity, 0.25]  Yellow   \n",
       "3          (3, 5]  Watermelon          (-1, 0]   (0.75, infinity)   Green   \n",
       "4  (-infinity, 1]       Apple    (1, infinity)  (-infinity, 0.25]   Green   \n",
       "5   (8, infinity)       Guava    (1, infinity)        (0.25, 0.5]   Green   \n",
       "6   (8, infinity)   Pineapple  (-infinity, -1]        (0.5, 0.75]   Brown   \n",
       "7          (5, 8]        Lima          (-1, 0]  (-infinity, 0.25]   Green   \n",
       "8          (5, 8]       Lemon  (-infinity, -1]        (0.25, 0.5]  Yellow   \n",
       "9          (1, 3]        Pear           (0, 1]  (-infinity, 0.25]   Green   \n",
       "\n",
       "   Expensive          Shop  \n",
       "0      False  Tienda Marlo  \n",
       "1      False  Tienda Marlo  \n",
       "2       True   Tienda Pepe  \n",
       "3       True   Tienda Pepe  \n",
       "4      False  Tienda Marlo  \n",
       "5       True  Tienda Marlo  \n",
       "6       True  Tienda Marlo  \n",
       "7      False   Tienda Pepe  \n",
       "8       True  Tienda Marlo  \n",
       "9       True  Tienda Marlo  "
      ]
     },
     "metadata": {},
     "output_type": "display_data"
    },
    {
     "name": "stdout",
     "output_type": "stream",
     "text": [
      "Dataset class: Expensive\n"
     ]
    }
   ],
   "source": [
    "print(\"Dataset before discretizing:\")\n",
    "MyDataset.print_dataset()\n",
    "print()\n",
    "print(\"Dataset after discretizing:\")\n",
    "MyDataset.discretize(\"Code\",method=\"frequency\",num_bins=5)\n",
    "MyDataset.discretize(\"Quantity\",method=\"custom\",cut_points=[-1,0,1])\n",
    "MyDataset.discretize(\"Weight\",method=\"width\",num_bins=4)\n",
    "MyDataset.print_dataset()"
   ]
  },
  {
   "cell_type": "markdown",
   "metadata": {},
   "source": [
    "## Filtrado del conjunto de datos\n",
    "\n",
    "Para finalizar, la librería *datapack* incluye una opción de filtrado de los atributos predictores mediante la función *filter_by*. Es decir, nos permite establecer una métrica (*metric*), un punto de corte (*threshold*) y un operador de comparación (*comparator*) a partir de los cuales realizar un filtrado de las variables. Las métricas disponibles son el área bajo la curva ROC, la varianza, la media y la mediana en el caso de las variables numéricas, y la entropía en el caso de las variables no numéricas. En cuanto a los operadores de comparación, se permiten los operadores *lt* (<), *le* (<=), *gt* (>), *ge* (>=), *eq* (=) y *neq* (!=).\n",
    "\n",
    "Como ejemplo, a continuación filtramos los atributos no numéricos para quedarnos solo con aquellos que tengan una entropía mayor que 2. Cabe destacar que la variable clase (en este caso, *Expensive*) no es tenida en cuenta durante el filtrado."
   ]
  },
  {
   "cell_type": "code",
   "execution_count": 21,
   "metadata": {},
   "outputs": [
    {
     "name": "stdout",
     "output_type": "stream",
     "text": [
      "Entropy of the non-numerical attributes (including the discretized variables):\n",
      "{'Code': 2.321928094887362, 'Fruit': 3.121928094887362, 'Quantity': 1.9219280948873623, 'Weight': 1.5709505944546687, 'Color': 1.9609640474436814, 'Expensive': 0.9709505944546686, 'Shop': 0.8812908992306927}\n",
      "\n",
      "Dataset after applying the filter:\n"
     ]
    },
    {
     "data": {
      "text/html": [
       "<div>\n",
       "<style scoped>\n",
       "    .dataframe tbody tr th:only-of-type {\n",
       "        vertical-align: middle;\n",
       "    }\n",
       "\n",
       "    .dataframe tbody tr th {\n",
       "        vertical-align: top;\n",
       "    }\n",
       "\n",
       "    .dataframe thead th {\n",
       "        text-align: right;\n",
       "    }\n",
       "</style>\n",
       "<table border=\"1\" class=\"dataframe\">\n",
       "  <thead>\n",
       "    <tr style=\"text-align: right;\">\n",
       "      <th></th>\n",
       "      <th>Code</th>\n",
       "      <th>Fruit</th>\n",
       "      <th>Expensive</th>\n",
       "    </tr>\n",
       "  </thead>\n",
       "  <tbody>\n",
       "    <tr>\n",
       "      <th>0</th>\n",
       "      <td>(-infinity, 1]</td>\n",
       "      <td>Apple</td>\n",
       "      <td>False</td>\n",
       "    </tr>\n",
       "    <tr>\n",
       "      <th>1</th>\n",
       "      <td>(3, 5]</td>\n",
       "      <td>Orange</td>\n",
       "      <td>False</td>\n",
       "    </tr>\n",
       "    <tr>\n",
       "      <th>2</th>\n",
       "      <td>(1, 3]</td>\n",
       "      <td>Banana</td>\n",
       "      <td>True</td>\n",
       "    </tr>\n",
       "    <tr>\n",
       "      <th>3</th>\n",
       "      <td>(3, 5]</td>\n",
       "      <td>Watermelon</td>\n",
       "      <td>True</td>\n",
       "    </tr>\n",
       "    <tr>\n",
       "      <th>4</th>\n",
       "      <td>(-infinity, 1]</td>\n",
       "      <td>Apple</td>\n",
       "      <td>False</td>\n",
       "    </tr>\n",
       "    <tr>\n",
       "      <th>5</th>\n",
       "      <td>(8, infinity)</td>\n",
       "      <td>Guava</td>\n",
       "      <td>True</td>\n",
       "    </tr>\n",
       "    <tr>\n",
       "      <th>6</th>\n",
       "      <td>(8, infinity)</td>\n",
       "      <td>Pineapple</td>\n",
       "      <td>True</td>\n",
       "    </tr>\n",
       "    <tr>\n",
       "      <th>7</th>\n",
       "      <td>(5, 8]</td>\n",
       "      <td>Lima</td>\n",
       "      <td>False</td>\n",
       "    </tr>\n",
       "    <tr>\n",
       "      <th>8</th>\n",
       "      <td>(5, 8]</td>\n",
       "      <td>Lemon</td>\n",
       "      <td>True</td>\n",
       "    </tr>\n",
       "    <tr>\n",
       "      <th>9</th>\n",
       "      <td>(1, 3]</td>\n",
       "      <td>Pear</td>\n",
       "      <td>True</td>\n",
       "    </tr>\n",
       "  </tbody>\n",
       "</table>\n",
       "</div>"
      ],
      "text/plain": [
       "             Code       Fruit  Expensive\n",
       "0  (-infinity, 1]       Apple      False\n",
       "1          (3, 5]      Orange      False\n",
       "2          (1, 3]      Banana       True\n",
       "3          (3, 5]  Watermelon       True\n",
       "4  (-infinity, 1]       Apple      False\n",
       "5   (8, infinity)       Guava       True\n",
       "6   (8, infinity)   Pineapple       True\n",
       "7          (5, 8]        Lima      False\n",
       "8          (5, 8]       Lemon       True\n",
       "9          (1, 3]        Pear       True"
      ]
     },
     "metadata": {},
     "output_type": "display_data"
    },
    {
     "name": "stdout",
     "output_type": "stream",
     "text": [
      "Dataset class: Expensive\n"
     ]
    }
   ],
   "source": [
    "print(\"Entropy of the non-numerical attributes (including the discretized variables):\")\n",
    "print(MyDataset.entropy_att())\n",
    "MyDataset.filter_by(metric=\"entropy\",threshold=2,comparator=\"gt\")\n",
    "print()\n",
    "print(\"Dataset after applying the filter:\")\n",
    "MyDataset.print_dataset()"
   ]
  }
 ],
 "metadata": {
  "kernelspec": {
   "display_name": "Python 3",
   "language": "python",
   "name": "python3"
  },
  "language_info": {
   "codemirror_mode": {
    "name": "ipython",
    "version": 3
   },
   "file_extension": ".py",
   "mimetype": "text/x-python",
   "name": "python",
   "nbconvert_exporter": "python",
   "pygments_lexer": "ipython3",
   "version": "3.8.10"
  }
 },
 "nbformat": 4,
 "nbformat_minor": 4
}
